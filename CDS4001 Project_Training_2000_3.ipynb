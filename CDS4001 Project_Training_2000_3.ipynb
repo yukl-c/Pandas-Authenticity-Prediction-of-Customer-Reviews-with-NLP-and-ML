{
 "cells": [
  {
   "cell_type": "code",
   "execution_count": 1,
   "id": "c10ff020",
   "metadata": {},
   "outputs": [],
   "source": [
    "import pandas as pd\n",
    "import nltk\n",
    "import string\n",
    "import seaborn as sns"
   ]
  },
  {
   "cell_type": "code",
   "execution_count": 2,
   "id": "a6613089",
   "metadata": {},
   "outputs": [
    {
     "name": "stdout",
     "output_type": "stream",
     "text": [
      "showing info https://raw.githubusercontent.com/nltk/nltk_data/gh-pages/index.xml\n"
     ]
    },
    {
     "data": {
      "text/plain": [
       "True"
      ]
     },
     "execution_count": 2,
     "metadata": {},
     "output_type": "execute_result"
    }
   ],
   "source": [
    "nltk.download()"
   ]
  },
  {
   "cell_type": "code",
   "execution_count": 3,
   "id": "c9443d14",
   "metadata": {},
   "outputs": [
    {
     "data": {
      "text/html": [
       "<div>\n",
       "<style scoped>\n",
       "    .dataframe tbody tr th:only-of-type {\n",
       "        vertical-align: middle;\n",
       "    }\n",
       "\n",
       "    .dataframe tbody tr th {\n",
       "        vertical-align: top;\n",
       "    }\n",
       "\n",
       "    .dataframe thead th {\n",
       "        text-align: right;\n",
       "    }\n",
       "</style>\n",
       "<table border=\"1\" class=\"dataframe\">\n",
       "  <thead>\n",
       "    <tr style=\"text-align: right;\">\n",
       "      <th></th>\n",
       "      <th>Rating</th>\n",
       "      <th>Label</th>\n",
       "      <th>Review_Text</th>\n",
       "    </tr>\n",
       "  </thead>\n",
       "  <tbody>\n",
       "    <tr>\n",
       "      <th>0</th>\n",
       "      <td>5</td>\n",
       "      <td>-1</td>\n",
       "      <td>i love sakagura. ??its a bit hard to find but ...</td>\n",
       "    </tr>\n",
       "    <tr>\n",
       "      <th>1</th>\n",
       "      <td>4</td>\n",
       "      <td>1</td>\n",
       "      <td>Ceviche mixto was great, the fish tacos were g...</td>\n",
       "    </tr>\n",
       "    <tr>\n",
       "      <th>2</th>\n",
       "      <td>5</td>\n",
       "      <td>-1</td>\n",
       "      <td>Brooklyn's best-kept secret. Brunch and dinner...</td>\n",
       "    </tr>\n",
       "    <tr>\n",
       "      <th>3</th>\n",
       "      <td>2</td>\n",
       "      <td>1</td>\n",
       "      <td>Prepare to be annoyed. ??The food is unremarka...</td>\n",
       "    </tr>\n",
       "    <tr>\n",
       "      <th>4</th>\n",
       "      <td>4</td>\n",
       "      <td>-1</td>\n",
       "      <td>Solid food, cute restaurant</td>\n",
       "    </tr>\n",
       "    <tr>\n",
       "      <th>...</th>\n",
       "      <td>...</td>\n",
       "      <td>...</td>\n",
       "      <td>...</td>\n",
       "    </tr>\n",
       "    <tr>\n",
       "      <th>1995</th>\n",
       "      <td>5</td>\n",
       "      <td>-1</td>\n",
       "      <td>cheap and good thai food. you can try anything...</td>\n",
       "    </tr>\n",
       "    <tr>\n",
       "      <th>1996</th>\n",
       "      <td>2</td>\n",
       "      <td>-1</td>\n",
       "      <td>Good place w good environment but the fish was...</td>\n",
       "    </tr>\n",
       "    <tr>\n",
       "      <th>1997</th>\n",
       "      <td>3</td>\n",
       "      <td>1</td>\n",
       "      <td>Great Jones Cafe was a fun way to spend a Sund...</td>\n",
       "    </tr>\n",
       "    <tr>\n",
       "      <th>1998</th>\n",
       "      <td>5</td>\n",
       "      <td>-1</td>\n",
       "      <td>A diamond in the ruff. Food was fantastic and ...</td>\n",
       "    </tr>\n",
       "    <tr>\n",
       "      <th>1999</th>\n",
       "      <td>4</td>\n",
       "      <td>-1</td>\n",
       "      <td>I was here last night for my anniversary dinne...</td>\n",
       "    </tr>\n",
       "  </tbody>\n",
       "</table>\n",
       "<p>2000 rows × 3 columns</p>\n",
       "</div>"
      ],
      "text/plain": [
       "      Rating  Label                                        Review_Text\n",
       "0          5     -1  i love sakagura. ??its a bit hard to find but ...\n",
       "1          4      1  Ceviche mixto was great, the fish tacos were g...\n",
       "2          5     -1  Brooklyn's best-kept secret. Brunch and dinner...\n",
       "3          2      1  Prepare to be annoyed. ??The food is unremarka...\n",
       "4          4     -1                        Solid food, cute restaurant\n",
       "...      ...    ...                                                ...\n",
       "1995       5     -1  cheap and good thai food. you can try anything...\n",
       "1996       2     -1  Good place w good environment but the fish was...\n",
       "1997       3      1  Great Jones Cafe was a fun way to spend a Sund...\n",
       "1998       5     -1  A diamond in the ruff. Food was fantastic and ...\n",
       "1999       4     -1  I was here last night for my anniversary dinne...\n",
       "\n",
       "[2000 rows x 3 columns]"
      ]
     },
     "execution_count": 3,
     "metadata": {},
     "output_type": "execute_result"
    }
   ],
   "source": [
    "yelp = pd.read_csv(\"new_yelp_eda_2000.csv\")\n",
    "yelp"
   ]
  },
  {
   "cell_type": "code",
   "execution_count": 4,
   "id": "45a4c33b",
   "metadata": {},
   "outputs": [
    {
     "data": {
      "text/html": [
       "<div>\n",
       "<style scoped>\n",
       "    .dataframe tbody tr th:only-of-type {\n",
       "        vertical-align: middle;\n",
       "    }\n",
       "\n",
       "    .dataframe tbody tr th {\n",
       "        vertical-align: top;\n",
       "    }\n",
       "\n",
       "    .dataframe thead th {\n",
       "        text-align: right;\n",
       "    }\n",
       "</style>\n",
       "<table border=\"1\" class=\"dataframe\">\n",
       "  <thead>\n",
       "    <tr style=\"text-align: right;\">\n",
       "      <th></th>\n",
       "      <th>Rating</th>\n",
       "      <th>Label</th>\n",
       "      <th>Review_Text</th>\n",
       "      <th>length</th>\n",
       "    </tr>\n",
       "  </thead>\n",
       "  <tbody>\n",
       "    <tr>\n",
       "      <th>0</th>\n",
       "      <td>5</td>\n",
       "      <td>-1</td>\n",
       "      <td>i love sakagura. ??its a bit hard to find but ...</td>\n",
       "      <td>391</td>\n",
       "    </tr>\n",
       "    <tr>\n",
       "      <th>1</th>\n",
       "      <td>4</td>\n",
       "      <td>1</td>\n",
       "      <td>Ceviche mixto was great, the fish tacos were g...</td>\n",
       "      <td>268</td>\n",
       "    </tr>\n",
       "    <tr>\n",
       "      <th>2</th>\n",
       "      <td>5</td>\n",
       "      <td>-1</td>\n",
       "      <td>Brooklyn's best-kept secret. Brunch and dinner...</td>\n",
       "      <td>133</td>\n",
       "    </tr>\n",
       "    <tr>\n",
       "      <th>3</th>\n",
       "      <td>2</td>\n",
       "      <td>1</td>\n",
       "      <td>Prepare to be annoyed. ??The food is unremarka...</td>\n",
       "      <td>106</td>\n",
       "    </tr>\n",
       "    <tr>\n",
       "      <th>4</th>\n",
       "      <td>4</td>\n",
       "      <td>-1</td>\n",
       "      <td>Solid food, cute restaurant</td>\n",
       "      <td>27</td>\n",
       "    </tr>\n",
       "    <tr>\n",
       "      <th>...</th>\n",
       "      <td>...</td>\n",
       "      <td>...</td>\n",
       "      <td>...</td>\n",
       "      <td>...</td>\n",
       "    </tr>\n",
       "    <tr>\n",
       "      <th>1995</th>\n",
       "      <td>5</td>\n",
       "      <td>-1</td>\n",
       "      <td>cheap and good thai food. you can try anything...</td>\n",
       "      <td>125</td>\n",
       "    </tr>\n",
       "    <tr>\n",
       "      <th>1996</th>\n",
       "      <td>2</td>\n",
       "      <td>-1</td>\n",
       "      <td>Good place w good environment but the fish was...</td>\n",
       "      <td>361</td>\n",
       "    </tr>\n",
       "    <tr>\n",
       "      <th>1997</th>\n",
       "      <td>3</td>\n",
       "      <td>1</td>\n",
       "      <td>Great Jones Cafe was a fun way to spend a Sund...</td>\n",
       "      <td>725</td>\n",
       "    </tr>\n",
       "    <tr>\n",
       "      <th>1998</th>\n",
       "      <td>5</td>\n",
       "      <td>-1</td>\n",
       "      <td>A diamond in the ruff. Food was fantastic and ...</td>\n",
       "      <td>86</td>\n",
       "    </tr>\n",
       "    <tr>\n",
       "      <th>1999</th>\n",
       "      <td>4</td>\n",
       "      <td>-1</td>\n",
       "      <td>I was here last night for my anniversary dinne...</td>\n",
       "      <td>1024</td>\n",
       "    </tr>\n",
       "  </tbody>\n",
       "</table>\n",
       "<p>2000 rows × 4 columns</p>\n",
       "</div>"
      ],
      "text/plain": [
       "      Rating  Label                                        Review_Text  length\n",
       "0          5     -1  i love sakagura. ??its a bit hard to find but ...     391\n",
       "1          4      1  Ceviche mixto was great, the fish tacos were g...     268\n",
       "2          5     -1  Brooklyn's best-kept secret. Brunch and dinner...     133\n",
       "3          2      1  Prepare to be annoyed. ??The food is unremarka...     106\n",
       "4          4     -1                        Solid food, cute restaurant      27\n",
       "...      ...    ...                                                ...     ...\n",
       "1995       5     -1  cheap and good thai food. you can try anything...     125\n",
       "1996       2     -1  Good place w good environment but the fish was...     361\n",
       "1997       3      1  Great Jones Cafe was a fun way to spend a Sund...     725\n",
       "1998       5     -1  A diamond in the ruff. Food was fantastic and ...      86\n",
       "1999       4     -1  I was here last night for my anniversary dinne...    1024\n",
       "\n",
       "[2000 rows x 4 columns]"
      ]
     },
     "execution_count": 4,
     "metadata": {},
     "output_type": "execute_result"
    }
   ],
   "source": [
    "# generate a graph to show the proportion of word count in sentence\n",
    "\n",
    "yelp['length'] = yelp['Review_Text'].apply(len)\n",
    "yelp"
   ]
  },
  {
   "cell_type": "markdown",
   "id": "b0915b11",
   "metadata": {},
   "source": [
    "### Text Pre-processing"
   ]
  },
  {
   "cell_type": "code",
   "execution_count": 5,
   "id": "b5d3cc56",
   "metadata": {},
   "outputs": [],
   "source": [
    "from nltk.corpus import stopwords\n",
    "from nltk.stem import PorterStemmer, WordNetLemmatizer\n",
    "\n",
    "#text processing: to remove stop words and punctuations, and undergo tokenization\n",
    "def text_processing(text):\n",
    "    #stemming\n",
    "    pst = PorterStemmer()\n",
    "    \n",
    "    #lemmalization\n",
    "    word_lem = WordNetLemmatizer()\n",
    "    \n",
    "    #remove punctuations\n",
    "    translator = str.maketrans('', '', string.punctuation)\n",
    "    text = text.translate(translator)\n",
    "    \n",
    "    #remove stopwords, stem and lemmatize the words\n",
    "    tokens = []\n",
    "    for word in text.split(' '):\n",
    "#         word = word.lower()and word not in tokens:\n",
    "        if word not in stopwords.words(\"english\"):\n",
    "            word = word_lem.lemmatize(word)\n",
    "            word = pst.stem(word)\n",
    "            tokens.append(word)\n",
    "            \n",
    "    #stemming\n",
    "            \n",
    "    return tokens"
   ]
  },
  {
   "cell_type": "code",
   "execution_count": 6,
   "id": "e4e74457",
   "metadata": {},
   "outputs": [
    {
     "data": {
      "text/plain": [
       "0       [love, sakagura, bit, hard, find, think, make,...\n",
       "1       [cevich, mixto, great, fish, taco, great, tuna...\n",
       "2       [brooklyn, bestkept, secret, brunch, dinner, s...\n",
       "3       [prepar, annoy, the, food, unremark, the, deco...\n",
       "4                            [solid, food, cute, restaur]\n",
       "                              ...                        \n",
       "1995    [cheap, good, thai, food, tri, anyth, everyth,...\n",
       "1996    [good, place, w, good, environ, fish, bad, cou...\n",
       "1997    [great, jone, cafe, fun, way, spend, sunday, a...\n",
       "1998    [a, diamond, ruff, food, fantast, top, priorit...\n",
       "1999    [i, last, night, anniversari, dinner, sinc, mo...\n",
       "Name: Review_Text, Length: 2000, dtype: object"
      ]
     },
     "execution_count": 6,
     "metadata": {},
     "output_type": "execute_result"
    }
   ],
   "source": [
    "yelp['Review_Text'].apply(text_processing)"
   ]
  },
  {
   "cell_type": "markdown",
   "id": "2c0b1348",
   "metadata": {},
   "source": [
    "### Feature Engineering"
   ]
  },
  {
   "cell_type": "code",
   "execution_count": 7,
   "id": "20301b77",
   "metadata": {},
   "outputs": [],
   "source": [
    "#to create the instance of CountVectorizer\n",
    "from sklearn.feature_extraction.text import CountVectorizer\n",
    "transformer = CountVectorizer(analyzer=text_processing).fit(yelp['Review_Text'])"
   ]
  },
  {
   "cell_type": "code",
   "execution_count": 8,
   "id": "33dd1937",
   "metadata": {},
   "outputs": [],
   "source": [
    "#transform the all sms messages to bag of words\n",
    "text_message = transformer.transform(yelp['Review_Text'])"
   ]
  },
  {
   "cell_type": "code",
   "execution_count": 9,
   "id": "d2328030",
   "metadata": {},
   "outputs": [],
   "source": [
    "#compute the tfidf for all sms messages\n",
    "from sklearn.feature_extraction.text import TfidfTransformer\n",
    "tfidf_transformer = TfidfTransformer().fit(text_message)\n",
    "\n",
    "#store tfidf in the variable text_tfidf\n",
    "text_tfidf = tfidf_transformer.transform(text_message)"
   ]
  },
  {
   "cell_type": "markdown",
   "id": "de06caba",
   "metadata": {},
   "source": [
    "### Training"
   ]
  },
  {
   "cell_type": "code",
   "execution_count": 10,
   "id": "eb194173",
   "metadata": {},
   "outputs": [
    {
     "name": "stdout",
     "output_type": "stream",
     "text": [
      "[-1  1 -1 ...  1 -1 -1]\n",
      "              precision    recall  f1-score   support\n",
      "\n",
      "          -1       0.93      0.80      0.86      1000\n",
      "           1       0.83      0.94      0.88      1000\n",
      "\n",
      "    accuracy                           0.87      2000\n",
      "   macro avg       0.88      0.87      0.87      2000\n",
      "weighted avg       0.88      0.87      0.87      2000\n",
      "\n"
     ]
    }
   ],
   "source": [
    "from sklearn.naive_bayes import MultinomialNB\n",
    "nb = MultinomialNB().fit(text_tfidf , yelp['Label'])\n",
    "nb.predict(text_tfidf)\n",
    "\n",
    "predictions = nb.predict(text_tfidf)\n",
    "print(predictions)\n",
    "\n",
    "from sklearn.metrics import classification_report\n",
    "print(classification_report(yelp['Label'], predictions))"
   ]
  },
  {
   "cell_type": "code",
   "execution_count": 11,
   "id": "9b899bc6",
   "metadata": {},
   "outputs": [],
   "source": [
    "#split to training set and testing set\n",
    "from sklearn.model_selection import train_test_split\n",
    "x_train, x_test, y_train, y_test = train_test_split(yelp['Review_Text'], yelp['Label'], test_size=0.3, random_state=42)                                     "
   ]
  },
  {
   "cell_type": "code",
   "execution_count": 12,
   "id": "81cf8360",
   "metadata": {},
   "outputs": [],
   "source": [
    "#use sklearn.pipeline to conduct the prediction again on training data\n",
    "from sklearn.pipeline import Pipeline\n",
    "import time"
   ]
  },
  {
   "cell_type": "code",
   "execution_count": 13,
   "id": "f3fe92f4",
   "metadata": {},
   "outputs": [],
   "source": [
    "from sklearn.model_selection import GridSearchCV\n",
    "from sklearn.ensemble import RandomForestClassifier\n",
    "from sklearn.neural_network import MLPClassifier\n",
    "from sklearn.ensemble import VotingClassifier"
   ]
  },
  {
   "cell_type": "code",
   "execution_count": 14,
   "id": "fb87cb74",
   "metadata": {},
   "outputs": [
    {
     "name": "stdout",
     "output_type": "stream",
     "text": [
      "              precision    recall  f1-score   support\n",
      "\n",
      "          -1       0.53      0.65      0.58       252\n",
      "           1       0.70      0.59      0.64       348\n",
      "\n",
      "    accuracy                           0.61       600\n",
      "   macro avg       0.61      0.62      0.61       600\n",
      "weighted avg       0.63      0.61      0.61       600\n",
      "\n",
      "Modeling time: 369.29 seconds\n"
     ]
    }
   ],
   "source": [
    "#Naive Bayse with CV\n",
    "start_time = time.time()\n",
    "\n",
    "pipelineNB = Pipeline([\n",
    "    ('bow', CountVectorizer(analyzer=text_processing)),\n",
    "    ('tfidf', TfidfTransformer()),\n",
    "    ('classifier', MultinomialNB())  \n",
    "])\n",
    "\n",
    "parameters = {\n",
    "    'classifier__alpha': [0.1, 1, 10]\n",
    "}\n",
    "\n",
    "gs_testNB = GridSearchCV(estimator=pipelineNB, param_grid=parameters, error_score='raise')\n",
    "gs_resultNB = gs_testNB.fit(x_train, y_train)\n",
    "predictionNB = gs_resultNB.predict(x_test)\n",
    "print(classification_report(predictionNB, y_test))\n",
    "\n",
    "end_time = time.time()\n",
    "\n",
    "# Calculate the duration in seconds\n",
    "duration = end_time - start_time\n",
    "\n",
    "# Print the duration\n",
    "print(\"Modeling time: {:.2f} seconds\".format(duration))"
   ]
  },
  {
   "cell_type": "code",
   "execution_count": 15,
   "id": "50366e75",
   "metadata": {},
   "outputs": [
    {
     "name": "stdout",
     "output_type": "stream",
     "text": [
      "              precision    recall  f1-score   support\n",
      "\n",
      "          -1       0.54      0.60      0.57       275\n",
      "           1       0.63      0.57      0.60       325\n",
      "\n",
      "    accuracy                           0.58       600\n",
      "   macro avg       0.58      0.58      0.58       600\n",
      "weighted avg       0.59      0.58      0.58       600\n",
      "\n",
      "Modeling time: 620.67 seconds\n"
     ]
    }
   ],
   "source": [
    "#MLP with CV\n",
    "start_time = time.time()\n",
    "\n",
    "pipelineMLP = Pipeline([\n",
    "    ('bow', CountVectorizer()),\n",
    "    ('tfidf', TfidfTransformer()),\n",
    "    ('classifier', MLPClassifier(random_state=1, max_iter=500))  \n",
    "])\n",
    "\n",
    "#parameters for cross validation\n",
    "parameters = {\n",
    "    'classifier__hidden_layer_sizes': [(100,), (100, 50), (50, 50)],\n",
    "    'classifier__activation': ['relu', 'tanh'],\n",
    "}\n",
    "\n",
    "gs_testMLP = GridSearchCV(estimator=pipelineMLP, param_grid=parameters, error_score='raise')\n",
    "gs_resultMLP = gs_testMLP.fit(x_train, y_train)\n",
    "predictionMLP = gs_resultMLP.predict(x_test)\n",
    "print(classification_report(predictionMLP, y_test))\n",
    "\n",
    "end_time = time.time()\n",
    "\n",
    "# Calculate the duration in seconds\n",
    "duration = end_time - start_time\n",
    "\n",
    "# Print the duration\n",
    "print(\"Modeling time: {:.2f} seconds\".format(duration))"
   ]
  },
  {
   "cell_type": "code",
   "execution_count": 16,
   "id": "97555f18",
   "metadata": {},
   "outputs": [
    {
     "name": "stdout",
     "output_type": "stream",
     "text": [
      "              precision    recall  f1-score   support\n",
      "\n",
      "          -1       0.36      0.68      0.47       164\n",
      "           1       0.82      0.55      0.66       436\n",
      "\n",
      "    accuracy                           0.58       600\n",
      "   macro avg       0.59      0.61      0.56       600\n",
      "weighted avg       0.69      0.58      0.61       600\n",
      "\n",
      "Modeling time: 813.57 seconds\n"
     ]
    }
   ],
   "source": [
    "#Ensemble Method\n",
    "#Naive Bayse & MLP with CV\n",
    "\n",
    "\n",
    "from sklearn.ensemble import VotingClassifier\n",
    "\n",
    "start_time = time.time()\n",
    "\n",
    "pipelineNB = Pipeline([\n",
    "    ('bow', CountVectorizer(analyzer=text_processing)),\n",
    "    ('tfidf', TfidfTransformer()),\n",
    "    ('classifier', MultinomialNB())  \n",
    "])\n",
    "\n",
    "pipelineMLP = Pipeline([\n",
    "    ('bow', CountVectorizer()),\n",
    "    ('tfidf', TfidfTransformer()),\n",
    "    ('classifier', MLPClassifier(random_state=1, max_iter=500))  \n",
    "])\n",
    "\n",
    "ensembleNB_MLP = VotingClassifier(estimators=[('nb', pipelineNB), ('mlp', pipelineMLP)], voting='hard')\n",
    "\n",
    "pipelineNB_MLP = Pipeline([\n",
    "    ('ensemble', ensembleNB_MLP)\n",
    "])\n",
    "\n",
    "#parameters for cross validation\n",
    "parameters = {\n",
    "    'ensemble__weights': [(1, 1), (2, 1), (1, 2)],\n",
    "}\n",
    "\n",
    "gs_testNB_MLP = GridSearchCV(estimator=pipelineNB_MLP, param_grid=parameters, error_score='raise')\n",
    "gs_resultNB_MLP = gs_testNB_MLP.fit(x_train, y_train)\n",
    "predictionNB_MLP = gs_resultNB_MLP.predict(x_test)\n",
    "print(classification_report(predictionNB_MLP, y_test))\n",
    "\n",
    "end_time = time.time()\n",
    "\n",
    "# Calculate the duration in seconds\n",
    "duration = end_time - start_time\n",
    "\n",
    "# Print the duration\n",
    "print(\"Modeling time: {:.2f} seconds\".format(duration))"
   ]
  },
  {
   "cell_type": "code",
   "execution_count": null,
   "id": "02baec87",
   "metadata": {},
   "outputs": [],
   "source": []
  },
  {
   "cell_type": "code",
   "execution_count": 17,
   "id": "b068f82a",
   "metadata": {},
   "outputs": [
    {
     "name": "stdout",
     "output_type": "stream",
     "text": [
      "              precision    recall  f1-score   support\n",
      "\n",
      "          -1       0.36      0.68      0.47       164\n",
      "           1       0.82      0.55      0.66       436\n",
      "\n",
      "    accuracy                           0.58       600\n",
      "   macro avg       0.59      0.61      0.56       600\n",
      "weighted avg       0.69      0.58      0.61       600\n",
      "\n",
      "Modeling time: 73.90 seconds\n"
     ]
    }
   ],
   "source": [
    "#Naive Bayse\n",
    "start_time = time.time()\n",
    "\n",
    "pipelineNB = Pipeline([\n",
    "    ('bow', CountVectorizer(analyzer=text_processing)),\n",
    "    ('tfidf', TfidfTransformer()),\n",
    "    ('classifier', MultinomialNB())  \n",
    "])\n",
    "pipelineNB.fit(x_train, y_train)\n",
    "predictionsNB = pipelineNB.predict(x_test)\n",
    "print(classification_report(predictionsNB, y_test))\n",
    "\n",
    "end_time = time.time()\n",
    "\n",
    "# Calculate the duration in seconds\n",
    "duration = end_time - start_time\n",
    "\n",
    "# Print the duration\n",
    "print(\"Modeling time: {:.2f} seconds\".format(duration))"
   ]
  },
  {
   "cell_type": "code",
   "execution_count": 18,
   "id": "19f244d7",
   "metadata": {},
   "outputs": [
    {
     "name": "stdout",
     "output_type": "stream",
     "text": [
      "              precision    recall  f1-score   support\n",
      "\n",
      "          -1       0.56      0.62      0.59       279\n",
      "           1       0.63      0.58      0.61       321\n",
      "\n",
      "    accuracy                           0.60       600\n",
      "   macro avg       0.60      0.60      0.60       600\n",
      "weighted avg       0.60      0.60      0.60       600\n",
      "\n",
      "Modeling time: 44.90 seconds\n"
     ]
    }
   ],
   "source": [
    "#MLP\n",
    "start_time = time.time()\n",
    "\n",
    "from sklearn.neural_network import MLPClassifier\n",
    "\n",
    "pipelineMLP = Pipeline([\n",
    "    ('bow', CountVectorizer()),\n",
    "    ('tfidf', TfidfTransformer()),\n",
    "    ('classifier', MLPClassifier(random_state=1, max_iter=500))  \n",
    "])\n",
    "\n",
    "pipelineMLP.fit(x_train, y_train)\n",
    "predictionsMLP = pipelineMLP.predict(x_test)\n",
    "print(classification_report(predictionsMLP, y_test))\n",
    "\n",
    "end_time = time.time()\n",
    "\n",
    "# Calculate the duration in seconds\n",
    "duration = end_time - start_time\n",
    "\n",
    "# Print the duration\n",
    "print(\"Modeling time: {:.2f} seconds\".format(duration))"
   ]
  },
  {
   "cell_type": "code",
   "execution_count": 19,
   "id": "418f7423",
   "metadata": {},
   "outputs": [
    {
     "name": "stdout",
     "output_type": "stream",
     "text": [
      "              precision    recall  f1-score   support\n",
      "\n",
      "          -1       0.61      0.62      0.62       302\n",
      "           1       0.61      0.60      0.61       298\n",
      "\n",
      "    accuracy                           0.61       600\n",
      "   macro avg       0.61      0.61      0.61       600\n",
      "weighted avg       0.61      0.61      0.61       600\n",
      "\n",
      "Modeling time: 115.42 seconds\n"
     ]
    }
   ],
   "source": [
    "#Ensemble Method\n",
    "#Naive Bayse & MLP\n",
    "start_time = time.time()\n",
    "\n",
    "from sklearn.ensemble import VotingClassifier\n",
    "\n",
    "pipelineNB = Pipeline([\n",
    "    ('bow', CountVectorizer(analyzer=text_processing)),\n",
    "    ('tfidf', TfidfTransformer()),\n",
    "    ('classifier', MultinomialNB())  \n",
    "])\n",
    "\n",
    "pipelineMLP = Pipeline([\n",
    "    ('bow', CountVectorizer()),\n",
    "    ('tfidf', TfidfTransformer()),\n",
    "    ('classifier', MLPClassifier(random_state=1, max_iter=500))  \n",
    "])\n",
    "\n",
    "ensembleNB_MLP = VotingClassifier(estimators=[('nb', pipelineNB), ('mlp', pipelineMLP)], voting='hard')\n",
    "\n",
    "pipelineNB_MLP = Pipeline([\n",
    "    ('ensemble', ensembleNB_MLP)\n",
    "])\n",
    "\n",
    "pipelineNB_MLP.fit(x_train, y_train)\n",
    "predictionsNB_MLP = pipelineNB_MLP.predict(x_test)\n",
    "print(classification_report(predictionsNB_MLP, y_test))\n",
    "\n",
    "end_time = time.time()\n",
    "\n",
    "# Calculate the duration in seconds\n",
    "duration = end_time - start_time\n",
    "\n",
    "# Print the duration\n",
    "print(\"Modeling time: {:.2f} seconds\".format(duration))"
   ]
  },
  {
   "cell_type": "code",
   "execution_count": 23,
   "id": "c1a76afa",
   "metadata": {},
   "outputs": [
    {
     "name": "stdout",
     "output_type": "stream",
     "text": [
      "0      -1\n",
      "1       1\n",
      "2      -1\n",
      "3       1\n",
      "4      -1\n",
      "       ..\n",
      "1995   -1\n",
      "1996   -1\n",
      "1997    1\n",
      "1998   -1\n",
      "1999   -1\n",
      "Name: Label, Length: 2000, dtype: int64\n"
     ]
    }
   ],
   "source": [
    "print(yelp['Label'])"
   ]
  },
  {
   "cell_type": "code",
   "execution_count": 38,
   "id": "16ac391f",
   "metadata": {},
   "outputs": [
    {
     "data": {
      "image/png": "[encoded data removed]",
      "text/plain": [
       "<Figure size 640x480 with 2 Axes>"
      ]
     },
     "metadata": {},
     "output_type": "display_data"
    },
    {
     "data": {
      "text/html": [
       "<div>\n",
       "<style scoped>\n",
       "    .dataframe tbody tr th:only-of-type {\n",
       "        vertical-align: middle;\n",
       "    }\n",
       "\n",
       "    .dataframe tbody tr th {\n",
       "        vertical-align: top;\n",
       "    }\n",
       "\n",
       "    .dataframe thead th {\n",
       "        text-align: right;\n",
       "    }\n",
       "</style>\n",
       "<table border=\"1\" class=\"dataframe\">\n",
       "  <thead>\n",
       "    <tr style=\"text-align: right;\">\n",
       "      <th>Predicted</th>\n",
       "      <th>-1</th>\n",
       "      <th>1</th>\n",
       "    </tr>\n",
       "    <tr>\n",
       "      <th>True</th>\n",
       "      <th></th>\n",
       "      <th></th>\n",
       "    </tr>\n",
       "  </thead>\n",
       "  <tbody>\n",
       "    <tr>\n",
       "      <th>-1</th>\n",
       "      <td>188</td>\n",
       "      <td>119</td>\n",
       "    </tr>\n",
       "    <tr>\n",
       "      <th>1</th>\n",
       "      <td>114</td>\n",
       "      <td>179</td>\n",
       "    </tr>\n",
       "  </tbody>\n",
       "</table>\n",
       "</div>"
      ],
      "text/plain": [
       "Predicted   -1    1\n",
       "True               \n",
       "-1         188  119\n",
       " 1         114  179"
      ]
     },
     "execution_count": 38,
     "metadata": {},
     "output_type": "execute_result"
    }
   ],
   "source": [
    "import matplotlib.pyplot as plt\n",
    "confusion = pd.DataFrame({'TrueLabels':y_test, 'PredictedLabels':predictionsNB_MLP})\n",
    "\n",
    "# Compute the confusion matrix using crosstab\n",
    "confusion_matrix = pd.crosstab(confusion['TrueLabels'], confusion['PredictedLabels'], rownames=['True'], colnames=['Predicted'])\n",
    "\n",
    "# Create a heatmap using seaborn\n",
    "sns.heatmap(confusion_matrix, annot=True, cmap='Blues')\n",
    "\n",
    "# Set labels and title\n",
    "plt.xlabel('Predicted Labels')\n",
    "plt.ylabel('True Labels')\n",
    "plt.title('Confusion Matrix')\n",
    "\n",
    "# Display the plot\n",
    "plt.show()\n",
    "\n",
    "confusion_matrix"
   ]
  },
  {
   "cell_type": "code",
   "execution_count": null,
   "id": "30f4024e",
   "metadata": {},
   "outputs": [],
   "source": []
  }
 ],
 "metadata": {
  "kernelspec": {
   "display_name": "Python 3 (ipykernel)",
   "language": "python",
   "name": "python3"
  },
  "language_info": {
   "codemirror_mode": {
    "name": "ipython",
    "version": 3
   },
   "file_extension": ".py",
   "mimetype": "text/x-python",
   "name": "python",
   "nbconvert_exporter": "python",
   "pygments_lexer": "ipython3",
   "version": "3.9.13"
  }
 },
 "nbformat": 4,
 "nbformat_minor": 5
}
